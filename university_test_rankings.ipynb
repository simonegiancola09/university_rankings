{
 "cells": [
  {
   "cell_type": "markdown",
   "metadata": {},
   "source": [
    "# University Test Rakings in Italy"
   ]
  },
  {
   "cell_type": "markdown",
   "metadata": {},
   "source": [
    "_A python-based solution to provide an early response to test takers_"
   ]
  },
  {
   "cell_type": "markdown",
   "metadata": {},
   "source": [
    "**Author** <br>\n",
    "Simone Maria Giancola <br>\n",
    "simonegiancola09@gmail.com <br>\n",
    "+0039 3314788683 <br>\n",
    "Linkedin Profile: [Simone Giancola](https://www.linkedin.com/in/simone-maria-giancola-011465173/) <br>\n",
    "I am absolutely not a professional, so any suggestion, either typo, code, writing, or analysis related is highly appreciated, and will be welcomed with enthusiasm."
   ]
  },
  {
   "cell_type": "markdown",
   "metadata": {
    "toc": true
   },
   "source": [
    "<h1>Table of Contents<span class=\"tocSkip\"></span></h1>\n",
    "<div class=\"toc\"><ul class=\"toc-item\"><li><span><a href=\"#Introduction\" data-toc-modified-id=\"Introduction-1\"><span class=\"toc-item-num\">1&nbsp;&nbsp;</span>Introduction</a></span></li><li><span><a href=\"#The-test\" data-toc-modified-id=\"The-test-2\"><span class=\"toc-item-num\">2&nbsp;&nbsp;</span>The test</a></span><ul class=\"toc-item\"><li><span><a href=\"#Structure\" data-toc-modified-id=\"Structure-2.1\"><span class=\"toc-item-num\">2.1&nbsp;&nbsp;</span>Structure</a></span></li><li><span><a href=\"#Points\" data-toc-modified-id=\"Points-2.2\"><span class=\"toc-item-num\">2.2&nbsp;&nbsp;</span>Points</a></span></li><li><span><a href=\"#Concerns\" data-toc-modified-id=\"Concerns-2.3\"><span class=\"toc-item-num\">2.3&nbsp;&nbsp;</span>Concerns</a></span></li></ul></li><li><span><a href=\"#A-simple,-Python-made-(partial)-solution\" data-toc-modified-id=\"A-simple,-Python-made-(partial)-solution-3\"><span class=\"toc-item-num\">3&nbsp;&nbsp;</span>A simple, Python-made (partial) solution</a></span><ul class=\"toc-item\"><li><span><a href=\"#Instances-of-the-problem\" data-toc-modified-id=\"Instances-of-the-problem-3.1\"><span class=\"toc-item-num\">3.1&nbsp;&nbsp;</span>Instances of the problem</a></span></li><li><span><a href=\"#Code\" data-toc-modified-id=\"Code-3.2\"><span class=\"toc-item-num\">3.2&nbsp;&nbsp;</span>Code</a></span></li><li><span><a href=\"#Results'-imprecision\" data-toc-modified-id=\"Results'-imprecision-3.3\"><span class=\"toc-item-num\">3.3&nbsp;&nbsp;</span>Results' imprecision</a></span></li></ul></li><li><span><a href=\"#Running-the-main-function\" data-toc-modified-id=\"Running-the-main-function-4\"><span class=\"toc-item-num\">4&nbsp;&nbsp;</span>Running the main function</a></span></li></ul></div>"
   ]
  },
  {
   "cell_type": "markdown",
   "metadata": {},
   "source": [
    "The following is a simple code, which however has great potential. I chose to include it in my personal projects since it is something which could be very useful for students who did one of the entry tests for Italian national universities. It does not prove fine Python coding skills, also because it was done on September 2019, a couple of months after the end of my first Python exam. The explanation and motivation are definitely longer than the code itself, because this document is intended for non-Italian readers which should not know anything about how enrolment in some Italian Universities is carried out.<br>\n",
    "**Note** <br>\n",
    "Being an early project, I did not know how to generalize it to get information from some online source, but I did something similar in my Covid19 Analysis project, which is on my Github profile as well. Thus, the code is genuine from early experience, but takes files from my personal disk. Nevertheless what should matter is the implementation of the idea. "
   ]
  },
  {
   "cell_type": "markdown",
   "metadata": {},
   "source": [
    "## Introduction"
   ]
  },
  {
   "cell_type": "markdown",
   "metadata": {},
   "source": [
    "The courses which require this evaluation include but are not limited to: <br>\n",
    "    - Medicine and Surgery (6 years course), together with  Dentistry\n",
    "    - Architecture (5 years course)\n",
    "    - Veterinary (5 years course)\n",
    "    - Health professions (Nursery, physiotherapy,...)\n",
    "Each year, thousands of aspiring university students take those tests, hoping to obtain a place among the few available. For some degrees, there is a national selection, for others, the selection is local. The former ones follow this kind of flow: <br>\n",
    "- Applications open, students can pay the fee and access the system\n",
    "- a list of available Universities with relevant available places is proposed, each year subject to slight changes\n",
    "-each student chooses a raking of a subset of the options or of the whole, thus stating which is the first preference, the second and so on\n",
    "-on test day (around the beginning of September), each university organizes a way to host all students who chose it as a first choice in order to allow them to take the test (**note:** this is crucial for the understanding of the code, a student takes the national test on the location of his/her first choice). <br>\n",
    "    - **note:** please note also that due to the current pandemic the 2020 session was arranged differently, and so this kind of information is lost and the code is useless for 2020 (more on it later).\n",
    "- one month later (more or less), anonymous results are made available to the public, everyone can see his/her score, but not his/her relative position. Moreover, to know this it is crucial that the test taker remembers the unique identification code attached to the test papers (more on it in the next chapter)\n",
    "-some time later, rankings are shared, and each student is aware of the actual position in the ranking. Given that slots are limited, some are in and some are out, depending on the choices that all the students who had a higher score took. <br>\n",
    "    - it may be that one particular location's places are exhausted way before another (due to fame of the University, or quality of life in the city where it is located), and so the choice of a not admitted student falls on his/her second option, or third, or fourth and so on. \n",
    "-periodically, admitted test takers are prompted to choose whether or not to accept the first choice they are allowed to take among their preferences, allowing for others to choose in the event that some are not satisfied with the option the university they can enroll in. <br>\n",
    "    - the reasons for not accepting are numerous. I could mention distance from home and fame of the university as an example, but in the end everyone has their reasons. \n",
    "    - an interesting fact is that many test takers do not eventually enroll in the degree they might get into because they just take the test \"for fun\" (very common in Italy) or for business reasons (there are some companies which prepare students to take tests and so some collaborators do it in order to be always updated on new modalities, questions, and claims on those as well, to protect their customers)\n",
    "- rankings keep on moving forward for a lot of time but tend to lose speed, meaning that already after some months no one enrolls anymore, because lectures start around October and enrolling late means having lost part of them. \n"
   ]
  },
  {
   "cell_type": "markdown",
   "metadata": {},
   "source": [
    "## The test"
   ]
  },
  {
   "cell_type": "markdown",
   "metadata": {},
   "source": [
    "### Structure"
   ]
  },
  {
   "cell_type": "markdown",
   "metadata": {},
   "source": [
    "Subject to change each year, with rumours about dates and questions, the Ministry of Education chooses how it is made. All questions are the same, whether one takes it in Milan, Rome or Naples. Subjects are generally related to: <br>\n",
    "- mathematics\n",
    "- physics\n",
    "- logical reasoning\n",
    "- verbal reasoning\n",
    "- biology and science\n",
    "- anatomy\n",
    "- general culture <br>\n",
    "    - defined as anything related to history but of common knowledge, from politics to science and philosophy. The italian Constitution and world recent's happenings are an example, but anything really could be considered part of general culture. <br>"
   ]
  },
  {
   "cell_type": "markdown",
   "metadata": {},
   "source": [
    "Sample questions of the test for Universities teaching medicine in English can be found at the following link: <br>\n",
    "[Sample Questions (English)](https://www.admissionstesting.org/Images/539381-imat-past-paper-2018.pdf) <br>\n",
    "**Note:** If the link does not work it is sufficient to search for keywords such as:\" _IMAT test Italy sample questions_ \""
   ]
  },
  {
   "cell_type": "markdown",
   "metadata": {},
   "source": [
    "### Points"
   ]
  },
  {
   "cell_type": "markdown",
   "metadata": {},
   "source": [
    "The current method, as of 2020, awards $+1.5$ points for each correct question, and $-0.4$ points for each incorrect question. The minimum score to be admitted to the ranking is 20. This may seem a low score, but the test is often complicated: even though 90 points are available it is common that the average of the around 70000 test takers for medicine and surgery is below 45."
   ]
  },
  {
   "cell_type": "markdown",
   "metadata": {},
   "source": [
    "### Concerns"
   ]
  },
  {
   "cell_type": "markdown",
   "metadata": {},
   "source": [
    "Often causing anxiety in young 19 years old students, and being the only way to graduate and work in some specific fields (example: even Italian Private universities have a medicine test, organized in similar ways), each year many claims are raised. These could be related to specific unclear questions, scandals, complaints concerning the modalities and the number of available slots (considered to be always less than optimal). <br>\n",
    "It is also common that students decide to attend a different degree and try the subsequent year to get into the one they actually want. <br>\n",
    "On top of all this mess, and if you do not believe it, just ask an Italian friend, result dates do not help. \n",
    "To be clearer, one could observe that: <br>\n",
    "- Most of the Universities accept students before the results of those tests are posted. So, if one does not pass, the risk is that of not being able to enroll in any degree. \n",
    "- The test is done on an answer sheet which is corrected by a computer\n",
    "- Each test taker is directly linked to his/her own ID, which anonymizes them to avoid help from a possible friend/relative who has in hand the tests at some point and could change the answers.\n",
    "    - for this reason it is also interesting to notice that the answer sheet cannot be written on, except from ticks on the answers. This ensures that no paper is recognizable. Say for example that one knows that the test of his friend has a strnge circle at an angle of the paper, then he/she could recognize it and change the answers, if he/she is the one who puts asnwer sheets on the optic reader. Any \"dirty\" answer sheet should be invalidated. It is also forbidden for a student to memorize his/her ID, as to avoid the sharing of this information. <br>\n",
    "- being corrected by a computer, results are probably uploaded on a system which directly links the ID, the score, the name of the student, and preferences to a single location. <br>\n",
    "- **BUT** Results are posted one month later, anonymously, and then some time later with names. Basically, most of the test takers, anxious about the result, either remember the answers they gave, or remember their code (somehow illegally, but who could blame them), or even both, in order to be aware of the result in the fastest way possible, while already having enrolled in a different course in the event that they do not pass. "
   ]
  },
  {
   "cell_type": "markdown",
   "metadata": {},
   "source": [
    "It is evident that this process could be simplified, by either setting test dates before or sharing results earlier for example. Probably, there is a reason for doing so that only those dealing with the test arrangements are aware of, I do not want to judge. <br>\n",
    "By just observing the current and past situation, I decided to give some relax to my friends, by attempting to give them an earlier asnwer. The next chapters will explain how I did so. "
   ]
  },
  {
   "cell_type": "markdown",
   "metadata": {},
   "source": [
    "## A simple, Python-made (partial) solution"
   ]
  },
  {
   "cell_type": "markdown",
   "metadata": {},
   "source": [
    "As stated at the beginning of this notebook, the idea behind and the implementation of it are quite simple, but showed to be socially useful for many people. This is not a document showing particular skills in Python coding, but nevertheless it proves how simple scripts, which let a computer do the hard work, can truly help. To support this, evidence I can only rely on the confidence of the reader when I say that lots of people asked me about their result the year I coded this. The solution is however partial, as I will try to explain in one of the following subchapters. "
   ]
  },
  {
   "cell_type": "markdown",
   "metadata": {},
   "source": [
    "### Instances of the problem"
   ]
  },
  {
   "cell_type": "markdown",
   "metadata": {},
   "source": [
    "Once anonymous results are public, for some privacy reasons I did not completely get, the Ministry of Education does not share a complete pdf ranking. Fortunately, in a few hours usually, a pdf containing all results starts to appear online. In the event that this does not happen, one can build it on his/her own by using online free tools that merge documents. \n",
    "This is the crucial piece of information needed: a pdf with a table containing scores and IDs of all test takers, not necessarily ordered. <br>\n",
    "Next, what is known about IDs is that each one is made of a list of numbers and characters, in which the first symbols denote the place where the test was taken by the individual, and thus the individual's first preference. Said so, we could say that having a pdf with all scores means knowing the first preference of everyone, along with their relative overall ranking. <br>\n",
    "What is missing is a list of the universities, with relative keys put at the beginning of the IDs, and places available. <br>\n",
    "Eventually, with just a couple of documents, one with rakings and one translating information, we can build a simple set of functions which does the following _pseudocode_ : <br>\n",
    "- accept a target score\n",
    "- set leftout counter to zero\n",
    "- loop\n",
    "- find highest overall score x\n",
    "- while x is more than the target score\n",
    "- recognize which is x's first choice\n",
    "- check that available seats for the choice are not zero\n",
    "    - if not zero remove one slot there and remove x from the ranking\n",
    "    - if zero increase leftout counter by 1, and remove x from the ranking\n",
    "- end while\n",
    "- end loop\n",
    "- return the leftout counter"
   ]
  },
  {
   "cell_type": "markdown",
   "metadata": {},
   "source": [
    "The above process will tell the user for a given score if any person who did better did not get into his/her choice, thus moving to his/her second choice. Being that only the first choice is known, this is the only feasible operation when anonymous rakings are shared, but it is still something. If someone knows that there is basically no waiting list, then he/she is definitely in his/her first choice, unless places were exhausted at the moment that precise score was reached. The test regulation states that when there is a tie, younger students, even born in the same year but in a later month, are preferred, but this cannot be evaluated since the only information in hand is the first preference. No birth date is retrievable from the ranking. "
   ]
  },
  {
   "cell_type": "markdown",
   "metadata": {},
   "source": [
    "### Code"
   ]
  },
  {
   "cell_type": "code",
   "execution_count": 138,
   "metadata": {},
   "outputs": [],
   "source": [
    "import tabula\n",
    "import pandas as pd"
   ]
  },
  {
   "cell_type": "markdown",
   "metadata": {},
   "source": [
    "I decided to divide the process in a few functinos which help accomplishing different tasks, calling one another across the computation. The libraries used are quite easy: <br>\n",
    "- Tabula allows the user to transform a pdf with tables into a dataframe\n",
    "    - I have trusted that it does so with not so much error, but this is not controlled by my code and it could be argued. I would however say that it surely does a faster and more precise work than a normal person. \n",
    "- Pandas is the one of the most common tools for dataframe manipulation"
   ]
  },
  {
   "cell_type": "markdown",
   "metadata": {},
   "source": [
    "The first function is a simple dataframe wrapper which accepts a path where a pdf is stored, and returns a dataframe. Since rankings are very long documents (medicine is around 600 pages of scores), when called it requires some time. Being the only library I found some months ago, I am not aware of faster methods, but anyway this is not something related to the actual implementation, and it is a one time operation, since then the dataframe can be stored and the pdf deleted. "
   ]
  },
  {
   "cell_type": "code",
   "execution_count": 139,
   "metadata": {},
   "outputs": [],
   "source": [
    "def pdf_to_df(path,pages='all'):\n",
    "    l=tabula.read_pdf(path, stream=True, pages='all')\n",
    "    #creates a list of dfs to join\n",
    "    df=l[0]\n",
    "    for i in range(1,len(l)):\n",
    "        df=df.append(l[i])\n",
    "    \n",
    "    return df"
   ]
  },
  {
   "cell_type": "markdown",
   "metadata": {},
   "source": [
    "The second wrapper creates a dictionary with as keys university names and as values the number of places. I did this since there are available excel files ith this kind of information, and I had managed to download one of them. For what concerns the IDcode-university pairing this is not the case, I had to find them by reading documents, I did not find any table online, and I had to write it by hand. Those two dictionaries will be used for the prestated pseudocode.  "
   ]
  },
  {
   "cell_type": "code",
   "execution_count": 140,
   "metadata": {},
   "outputs": [],
   "source": [
    "def uni_places(path):\n",
    "    df=pd.read_excel(path)\n",
    "    d={}\n",
    "    for i in range(len(df)-1):\n",
    "        a=df.iloc[i][0].lower()[9:]\n",
    "        d[a]=df.iloc[i][1]\n",
    "    \n",
    "    return d\n",
    "code_uni={'02':'bari','03':'bologna','C7':'varese insubria','C6':'milano \"bicocca\"','01':'politecnica delle marche','C8':'vercelli \"avogadro\"','04':'cagliari','46':'brescia','08':'catania','C5':'catanzaro','53':'chieti','09':'ferrara','10':'firenze','C9':'foggia','11':'genova','55':\"l'aquila\",'14':'messina','15':'milano','17':'modena','39':'molise','18':'napoli','49':'napoli \"luigi vanvitelli\" (sede di napoli e sede di caserta)','19':'padova','20':'palermo','21':'parma','22':'pavia','23':'perugia (sede di perugia e sede di terni)','24':'pisa','26':'la sapienza','27':'roma \"tor vergata\"','28':'salerno','29':'sassari','30':'siena','31':'torino','33':'trieste','34':'udine','40':'verona'}\n"
   ]
  },
  {
   "cell_type": "markdown",
   "metadata": {},
   "source": [
    "One of the first things to do is simplify the dataframe. Those usually store (row wise): the ID, each partial score in the different sections, and the total score. For what concerns our objective only the ID and the total scores are needed. Since scorenames are not homogeneous, meaning that some pdfs call it _\"score\"_ while others _\"totscore\"_ , and so on, the function does also ask which kind of string denotes our target value. Being of many pages, the keywords which name each column repeat, and so they must be skipped. I did so by looping across all results and ignoring those who are basically column titles, while storing only ID and overall score. The overall score was at the sixth column (number 5 with indexing since it starts from zero), because tests were made of 4 parts, thus making for each test taker an ID, 4 partial scores and one final score, in order. "
   ]
  },
  {
   "cell_type": "code",
   "execution_count": 141,
   "metadata": {},
   "outputs": [],
   "source": [
    "def get_list(df,score_name='Punti TOT'):\n",
    "    l=[]\n",
    "    for i in range(len(df)):\n",
    "        if df.iloc[i,5]!=score_name:\n",
    "            t=(df.iloc[i,0],float(df.iloc[i,5]))#.replace(',','.')) )\n",
    "            #the score is reported with the italian system (decimals with comma)\n",
    "            #it is converted to the python system with this line\n",
    "            #and stored in the tuple\n",
    "            l.append(t)\n",
    "    return l"
   ]
  },
  {
   "cell_type": "markdown",
   "metadata": {},
   "source": [
    "**Update**: a more efficient way is obviously possible, but since I do not want to change the code I wrote months ago, because it would basically mean cheating (declaring I did some work in the past and changing it with updated knowlesge acquired with time), I will post it here below. The method would have changed since the old function returns a list of tuples, while this new one is a dataframe. "
   ]
  },
  {
   "cell_type": "code",
   "execution_count": 142,
   "metadata": {},
   "outputs": [],
   "source": [
    "#say I have a df and I want to keep only the ID column (first one) and \n",
    "# the score column (last one) \n",
    "#the command would be\n",
    "#l=df[['ID_column_name','score_column_name']] \n",
    "#to get all rows and 2 columns\n",
    "#l=l[l['score_column_name']!=score_column_name] \n",
    "#to delete the rows that repeat the column name"
   ]
  },
  {
   "cell_type": "markdown",
   "metadata": {},
   "source": [
    "Having in hand a list of tuples I then wrote a function which sorts it using as criterion the second element of each pair, that of the score. For some datasets it is needed since scores are not sorted. "
   ]
  },
  {
   "cell_type": "code",
   "execution_count": 143,
   "metadata": {},
   "outputs": [],
   "source": [
    "def rank(l):\n",
    "    l.sort(key=lambda pair: pair[1], reverse=True)\n",
    "    return l"
   ]
  },
  {
   "cell_type": "markdown",
   "metadata": {},
   "source": [
    "Next I coded the main function, which takes a sorted list of tuples, two dictionaries and a score and does the job outlined before. At each iteration, the dictionary linking name and slots available of a given university is updated, taking out one seat. Once seats in one location are exhausted, the function will return false and count the number of leftout students. "
   ]
  },
  {
   "cell_type": "code",
   "execution_count": 144,
   "metadata": {},
   "outputs": [],
   "source": [
    "def until(score,ranking,code_uni,uni_places):\n",
    "    left_out=0\n",
    "    for i in range(len(ranking)):\n",
    "        present_score=ranking[i][1]\n",
    "        if present_score>=score:\n",
    "            code=ranking[i][0][0:2]\n",
    "            #code extraction of the individual at the given position\n",
    "            if decrease_and_check(code,code_uni,uni_places)==False:\n",
    "                ##decrease_and_check is explained in the next cell\n",
    "                left_out+=1\n",
    "        else:\n",
    "            print('number of left_outs is:',left_out)\n",
    "            return left_out\n",
    "        \n",
    "    return left_out"
   ]
  },
  {
   "cell_type": "markdown",
   "metadata": {},
   "source": [
    "The function named _decrease and check_ does the job of recognizing the university given the code, and either giving him/her one slot among those available in his/her preference, or returning False, in order to increase the overall left_out counter, which keeps track of how many test taker did not get into their first preference. "
   ]
  },
  {
   "cell_type": "code",
   "execution_count": 145,
   "metadata": {},
   "outputs": [],
   "source": [
    "def decrease_and_check(code,code_uni,uni_places):    \n",
    "    key=code_uni.get(code)\n",
    "    if uni_places[key]<0:\n",
    "        #checks if all slots have been occupied with a higher score \n",
    "        return False\n",
    "    else:\n",
    "        uni_places[key]-=1\n",
    "        return True"
   ]
  },
  {
   "cell_type": "markdown",
   "metadata": {},
   "source": [
    "I also added some functions which helped gain a greater understanding of the situation when I was building the code. In order: <br>\n",
    "- _get position_ : once the dictionary is modified with updated available places, it returns the first index at which the first university runs out of slots. \n",
    "- _find same score_ :  returns how many students have obtained the same score. This is useful when evaluating it with relevant places still available at someone's position. For example, since birth date is not known, by combining the uni_places modified dictionary after having run the until function, and this function, one could see places left and people with the same score who may or may not choose before due to age advantage. \n",
    "- _slots requested_ : counts for each university code how many people took preferences above one's score. Useful to see concentration of requests above one's performance. "
   ]
  },
  {
   "cell_type": "code",
   "execution_count": null,
   "metadata": {},
   "outputs": [],
   "source": []
  },
  {
   "cell_type": "code",
   "execution_count": 146,
   "metadata": {},
   "outputs": [],
   "source": [
    "def get_position(ranking,code_uni,uni_places):\n",
    "    for x in ranking:\n",
    "        code=x[0][0:2]\n",
    "        b=check(a,code_uni,uni_places)\n",
    "        if b==False:\n",
    "            return ranking.index(x)\n",
    "        \n",
    "        \n",
    "def find_same_score(score,ranking):\n",
    "    same=[]\n",
    "    for i in range(len(ranking)):\n",
    "        if ranking[i][1]==score:\n",
    "            t=(i+1,ranking[i])\n",
    "            same.append(t)\n",
    "    return same\n",
    "\n",
    "\n",
    "def slots_requested(score,ranking):\n",
    "    code_requested={}\n",
    "    for i in range(len(ranking)):\n",
    "        if ranking[i][1]>=score:\n",
    "            code_requested.setdefault(ranking[i][0][0:2],0)\n",
    "            code_requested[ranking[i][0][0:2]]+=1\n",
    "        else:\n",
    "            return code_requested"
   ]
  },
  {
   "cell_type": "markdown",
   "metadata": {},
   "source": [
    "### Results' imprecision"
   ]
  },
  {
   "cell_type": "markdown",
   "metadata": {},
   "source": [
    "It is worth noting that this script does not in any way give 100% certainty of having or not having passed. The main issues mentioned and not mentioned before include but are not limited to the following: <br>\n",
    "- tabula's accuracy in converting a pdf of 500 pages or more was not tested and taken with confidence as 100%. A failure in this process of data collection could lead to not reliable results. \n",
    "- having in hand only one's first preference, information is not complete. Second preferences and a higher score mean still the individual chooses first, so given a score, certainty of being accepted happens only if $left_{out}=0$, or if $left_{out}<\\text{available slots in one's preference}$\n",
    "- age is not known, and as stated by the rules of the exam, in case of equal scores, the younger test taker chooses first \n",
    "- many tests combine courses, so for example medicine tests are done together with dentistry tests, and both are given the same code. This causes even more uncertainty. As a rule of thumb for example, medicine is more competitive than dentistry, but who knows year by year what will be the given level of choices upon a given score for one or the other. However, dividing these preferences is impossible given that the code is the same, and the only way to consider this without compromising the whole system is probably to ignore this factor. Coming back to the example made before, on one side, given that medicine is more competitive than dentistry, a dentistry test taker could have confidence in having passed if the program gives a \"good result\", while for medicine, given that the proportion of test takers is a lot higher (less students try dentistry), the noisy contribution can be treated as negligible. \n",
    "- many test takers try the test without the intention to enroll (for fun or other reasons). \n",
    "\n",
    "Nevertheless, I would again state that these are not results that should be taken as 100% correct, but more of an indicator of performance with respect to other test takers. "
   ]
  },
  {
   "cell_type": "markdown",
   "metadata": {},
   "source": [
    "## Running the main function"
   ]
  },
  {
   "cell_type": "markdown",
   "metadata": {},
   "source": [
    "Given the dimensions of the original rankings, I will run the functions on a subset of the pdf I left inside the Github repository of this project. Doing a complex task, tabula is fairly slow. I hope that some slots will get to zero as to show a possible \"not accepted in first choice\" solution. All documents are related to 2019 admission tests. I will use the two dictionaries below for the sake of simplicity, but an excel file with medicine places is available as well if someone wants to play with it. Names are always simplified to keep them short. "
   ]
  },
  {
   "cell_type": "code",
   "execution_count": 147,
   "metadata": {},
   "outputs": [],
   "source": [
    "#### these two are the codes, names and places dictionaries of 2019 architecture courses\n",
    "### I kept them in the event someone wanted to use data without extracting it\n",
    "#from a source\n",
    "code_uni_arch={'48':'bari','38':'basilicata','03':'bologna','46':'brescia','04':'cagliari','05':'calabria','06':'callerino','08':'catania','53':'chieti','09':'ferrara','10':'firenze','11':'genova','55':\"l'aquila\",'16':'milano','18':'napoli','49':'campania','19':'padova','20':'palermo','21':'parma','22':'pavia','23':'perugia','24':'pisa','01':'marche','47':'reggio calabria','26':'roma 1','27':'roma 2','A7':'roma 3','28':'salerno','29':'sassari','32':'torino','62':'trento','33':'trieste','34':'udine','37':'venezia'}\n",
    "uni_places_arch={'bari':147,'basilicata':85,'bologna':180,'brescia':60,'cagliari':110,'calabria':90,'callerino':92,'catania':195,'chieti':200,'ferrara':146,'firenze':450,'genova':162,\"l'aquila\":97,'milano':1073,'napoli':571,'campania':150,'padova':97,'palermo':240,'parma':120,'pavia':60,'perugia':78,'pisa':66,'marche':70,'reggio calabria':230,'roma 1':603,'roma 2':60,'roma 3':180,'salerno':70,'sassari':60,'torino':430,'trento':75,'trieste':45,'udine':97,'venezia':350}\n",
    "#########\n",
    "##copying the original places dictionary to have the updated version after one iteration\n",
    "##and the original one\n",
    "uni_places_arch_50=uni_places_arch.copy()\n",
    "uni_places_arch_30=uni_places_arch.copy()\n",
    "\n",
    "##\n",
    "\n",
    "\n",
    "df=pdf_to_df(path='/Users/admin/Desktop/architecture_ranking.pdf',pages='1-50')\n",
    "results=get_list(df)\n",
    "sorted_ranking=rank(results)\n",
    "\n",
    "##we check for two random scores, say 50 and 30\n",
    "\n"
   ]
  },
  {
   "cell_type": "code",
   "execution_count": 148,
   "metadata": {},
   "outputs": [
    {
     "name": "stdout",
     "output_type": "stream",
     "text": [
      "number of left_outs is: 0\n"
     ]
    }
   ],
   "source": [
    "left_50=until(50,sorted_ranking,code_uni_arch,uni_places_arch_50)"
   ]
  },
  {
   "cell_type": "code",
   "execution_count": 149,
   "metadata": {},
   "outputs": [
    {
     "name": "stdout",
     "output_type": "stream",
     "text": [
      "number of left_outs is: 23\n"
     ]
    }
   ],
   "source": [
    "left_30=until(30,sorted_ranking,code_uni_arch,uni_places_arch_30)"
   ]
  },
  {
   "cell_type": "code",
   "execution_count": 150,
   "metadata": {},
   "outputs": [
    {
     "name": "stdout",
     "output_type": "stream",
     "text": [
      "IDs with same score of 50 points: \n",
      " [(367, ('37AR9UACAVEIVUE', 50.0)), (368, ('37AR9YGRCWD84P7', 50.0)), (369, ('A7AR9Z7A1CYA4T7', 50.0)), (370, ('16AR97RGJT6CMX3', 50.0)), (371, ('16AR9HEVVNQQ7VB', 50.0)), (372, ('16AR9ULUN5C2R2J', 50.0)), (373, ('09AR9JDPGFAD1KA', 50.0))]\n"
     ]
    }
   ],
   "source": [
    "same_50=find_same_score(50,sorted_ranking)\n",
    "print('IDs with same score of 50 points: \\n',same_50)"
   ]
  },
  {
   "cell_type": "code",
   "execution_count": 151,
   "metadata": {},
   "outputs": [
    {
     "name": "stdout",
     "output_type": "stream",
     "text": [
      "Slots requested for each Uni once 30 points are reached: \n",
      " {'16': 1097, '62': 56, '26': 272, '47': 115, '37': 267, '19': 56, '49': 114, '09': 120, '32': 271, '11': 45, '48': 86, '18': 126, '03': 120, '27': 16, '38': 41, '28': 20, '10': 175, '24': 30, 'A7': 74, '34': 12, '53': 34, '01': 13, '46': 29, '04': 41, '29': 31, '21': 23, '20': 36, '22': 24, '08': 49, '23': 20, '55': 8, '33': 15, '06': 11, '05': 6}\n"
     ]
    }
   ],
   "source": [
    "req_30=slots_requested(30,sorted_ranking)\n",
    "print('Slots requested for each Uni once 30 points are reached: \\n',req_30)"
   ]
  },
  {
   "cell_type": "markdown",
   "metadata": {},
   "source": [
    "We could, for example, check why the university identified by the 16 code has so many requests. "
   ]
  },
  {
   "cell_type": "code",
   "execution_count": 152,
   "metadata": {},
   "outputs": [
    {
     "name": "stdout",
     "output_type": "stream",
     "text": [
      "milano number of available places:  1073\n"
     ]
    }
   ],
   "source": [
    "print(code_uni_arch['16'],'number of available places: ',uni_places_arch[code_uni_arch['16']])"
   ]
  },
  {
   "cell_type": "markdown",
   "metadata": {},
   "source": [
    "Code 16 indeed is linked to Milan's University, located in one of the most wanted cities of Italy for students, and also being one of the best architecture courses across the countries, and one of the biggest, students-wise. "
   ]
  }
 ],
 "metadata": {
  "kernelspec": {
   "display_name": "Python 3",
   "language": "python",
   "name": "python3"
  },
  "language_info": {
   "codemirror_mode": {
    "name": "ipython",
    "version": 3
   },
   "file_extension": ".py",
   "mimetype": "text/x-python",
   "name": "python",
   "nbconvert_exporter": "python",
   "pygments_lexer": "ipython3",
   "version": "3.7.4"
  },
  "toc": {
   "base_numbering": 1,
   "nav_menu": {},
   "number_sections": true,
   "sideBar": true,
   "skip_h1_title": true,
   "title_cell": "Table of Contents",
   "title_sidebar": "Contents",
   "toc_cell": true,
   "toc_position": {
    "height": "609px",
    "left": "38px",
    "top": "210px",
    "width": "288px"
   },
   "toc_section_display": true,
   "toc_window_display": true
  }
 },
 "nbformat": 4,
 "nbformat_minor": 4
}
